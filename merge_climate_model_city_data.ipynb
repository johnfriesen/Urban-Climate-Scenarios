{
 "cells": [
  {
   "cell_type": "code",
   "execution_count": null,
   "metadata": {},
   "outputs": [],
   "source": [
    "import geopandas as gpd\n",
    "import rasterio\n",
    "from rasterio.mask import mask\n",
    "import pandas as pd\n",
    "\n",
    "# Laden des Shapefiles mit den Städteumrissen\n",
    "cities_gdf = gpd.read_file(\"input/path_to_cities_shapefile.shp\")\n",
    "\n",
    "# Laden der Rasterdaten (Temperaturdaten)\n",
    "with rasterio.open(\"input/path_to_temperature_raster.tif\") as temp_raster:\n",
    "    temp_data = temp_raster.read(1)  # Lies die Temperaturdaten ein\n",
    "    transform = temp_raster.transform  # Transformation, um Koordinaten zu berechnen"
   ]
  }
 ],
 "metadata": {
  "kernelspec": {
   "display_name": "venv",
   "language": "python",
   "name": "python3"
  },
  "language_info": {
   "name": "python",
   "version": "3.9.6"
  }
 },
 "nbformat": 4,
 "nbformat_minor": 2
}
